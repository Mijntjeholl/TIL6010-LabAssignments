{
 "cells": [
  {
   "cell_type": "markdown",
   "metadata": {},
   "source": [
    "# Project Group - \n",
    "\n",
    "Members: Mijntje Holl, Demi Reuvekamp, Hessel Rozema, Lucas Verhofstad & Job van Witsen\n",
    "\n",
    "Student numbers: 4869346, 5050782, 4956192, 5846706, 5885558"
   ]
  },
  {
   "cell_type": "markdown",
   "metadata": {},
   "source": [
    "# Research Objective\n",
    "\n",
    "*Requires data modeling and quantitative research in Transport, Infrastructure & Logistics*"
   ]
  },
  {
   "cell_type": "markdown",
   "metadata": {},
   "source": [
    "**Main Research Question:** \n",
    "\n",
    "Is there a correlation between the amount of vehicles sold in the Netherlands and the average petrol station price of all types of fuels? Reviewed per month between January 2006 and January 2022. \n",
    "\n",
    "**Sub Questions:**\n",
    "\n",
    "How do car sales in the Netherlands evolve over the years?\n",
    "\n",
    "How do petrol station prices of fuel evolve over the years?\n",
    "\n",
    "How has consumer confidence influenced car sales over the years?\n",
    "\n",
    "How has the economic climate influenced petrol station fuel prices over the years?\n",
    "\n",
    "How has the willingness to buy influenced the care sales and fuel prices over the years?"
   ]
  },
  {
   "cell_type": "markdown",
   "metadata": {},
   "source": [
    "# Contribution Statement\n",
    "\n",
    "*Be specific. Some of the tasks can be coding (expect everyone to do this), background research, conceptualisation, visualisation, data analysis, data modelling*"
   ]
  },
  {
   "cell_type": "markdown",
   "metadata": {},
   "source": [
    "**Author 1**: Coding subq 1. + background research\n",
    "\n",
    "**Author 2**: Coding sub1 2. + Conceptualisation \n",
    "\n",
    "**Author 3**: Coding subq 3. + Visualisation\n",
    "\n",
    "**Author 4**: Coding subq 4. + Data analysis\n",
    "\n",
    "**Author 5**: Coding subq 5. + Data modelling \n",
    "\n",
    "Together we will code the main question and profide the final tasks "
   ]
  },
  {
   "cell_type": "markdown",
   "metadata": {},
   "source": [
    "# Data Used"
   ]
  },
  {
   "cell_type": "markdown",
   "metadata": {},
   "source": [
    "**Consumer confidence, economic climate and willingness to buy:**\n",
    "\n",
    "https://opendata.cbs.nl/statline/portal.html?_la=en&_catalog=CBS&tableId=83693ENG&_theme=1095 \n",
    "\n",
    "This table contains the (seasonally) adjusted figures on opinions and expectations of Dutch consumers on general economic developments and their own financial situation. The indicators of consumer confidence, economic climate and willingness are based on these opinions and expectations.\n",
    "\n",
    "**Amount of car sales in the Netherlands:**\n",
    "\n",
    "https://www.autoweek.nl/verkoopcijfers/ \n",
    "\n",
    "This data set provides the Dutch sales figures dating back to 1983. The data is retrievable by year and by brand. On the brand page, sales figures can be found per model.\"\n",
    "\n",
    "**Petrol station fuel prices per fuel type:**\n",
    "\n",
    "https://opendata.cbs.nl/statline/#/CBS/en/dataset/81567ENG/table?ts=1696237964372\n",
    "\n",
    "In this data set the pump prices of all motor fuels are provided. They are measured per month for every year. The prices are shown per location of the petrol station and per fuel type. \n"
   ]
  },
  {
   "cell_type": "markdown",
   "metadata": {},
   "source": [
    "# Data Pipeline"
   ]
  },
  {
   "cell_type": "markdown",
   "metadata": {},
   "source": [
    "![Alt text](image.png)"
   ]
  }
 ],
 "metadata": {
  "kernelspec": {
   "display_name": "Python 3",
   "language": "python",
   "name": "python3"
  },
  "language_info": {
   "name": "python",
   "version": "3.8.2"
  },
  "orig_nbformat": 4,
  "vscode": {
   "interpreter": {
    "hash": "31f2aee4e71d21fbe5cf8b01ff0e069b9275f58929596ceb00d14d90e3e16cd6"
   }
  }
 },
 "nbformat": 4,
 "nbformat_minor": 2
}
